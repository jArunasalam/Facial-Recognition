{
 "cells": [
  {
   "cell_type": "code",
   "execution_count": 1,
   "metadata": {},
   "outputs": [
    {
     "name": "stdout",
     "output_type": "stream",
     "text": [
      "Requirement already satisfied: numpy in c:\\users\\adity\\anaconda3\\lib\\site-packages (1.19.2)\n",
      "Note: you may need to restart the kernel to use updated packages.\n"
     ]
    }
   ],
   "source": [
    "pip install numpy "
   ]
  },
  {
   "cell_type": "code",
   "execution_count": 2,
   "metadata": {},
   "outputs": [
    {
     "name": "stdout",
     "output_type": "stream",
     "text": [
      "Requirement already satisfied: opencv-python in c:\\users\\adity\\anaconda3\\lib\\site-packages (4.5.1.48)\n",
      "Requirement already satisfied: numpy>=1.17.3 in c:\\users\\adity\\anaconda3\\lib\\site-packages (from opencv-python) (1.19.2)\n",
      "Note: you may need to restart the kernel to use updated packages.\n"
     ]
    }
   ],
   "source": [
    "pip install opencv-python"
   ]
  },
  {
   "cell_type": "code",
   "execution_count": 3,
   "metadata": {},
   "outputs": [
    {
     "name": "stdout",
     "output_type": "stream",
     "text": [
      "Requirement already satisfied: cmake in c:\\users\\adity\\anaconda3\\lib\\site-packages (3.18.4.post1)\n",
      "Note: you may need to restart the kernel to use updated packages.\n"
     ]
    }
   ],
   "source": [
    "pip install cmake"
   ]
  },
  {
   "cell_type": "code",
   "execution_count": 5,
   "metadata": {},
   "outputs": [
    {
     "name": "stdout",
     "output_type": "stream",
     "text": [
      "Requirement already satisfied: dlib in c:\\users\\adity\\anaconda3\\lib\\site-packages (19.21.1)\n",
      "Note: you may need to restart the kernel to use updated packages.\n"
     ]
    }
   ],
   "source": [
    "pip install dlib"
   ]
  },
  {
   "cell_type": "code",
   "execution_count": 6,
   "metadata": {},
   "outputs": [
    {
     "name": "stdout",
     "output_type": "stream",
     "text": [
      "Processing c:\\users\\adity\\appdata\\local\\pip\\cache\\wheels\\59\\1b\\52\\0dea905f8278d5514dc4d0be5e251967f8681670cadd3dca89\\imutils-0.5.4-py3-none-any.whl\n",
      "Installing collected packages: imutils\n",
      "Successfully installed imutils-0.5.4\n",
      "Note: you may need to restart the kernel to use updated packages.\n"
     ]
    }
   ],
   "source": [
    "pip install imutils"
   ]
  },
  {
   "cell_type": "code",
   "execution_count": 31,
   "metadata": {},
   "outputs": [],
   "source": [
    "import numpy as np\n",
    "from imutils import face_utils\n",
    "import dlib\n",
    "import cv2\n",
    "from IPython.display import Image"
   ]
  },
  {
   "cell_type": "code",
   "execution_count": 4,
   "metadata": {},
   "outputs": [],
   "source": [
    "def curve(points):\n",
    "    x = points[:,0]\n",
    "    y = points[:,1]\n",
    "    z = np.polyfit(x, y, 2)\n",
    "    f = np.poly1d(z)\n",
    "    x_n = np.linspace(x[0], x[-1], 100)\n",
    "    y_n = f(x_n)\n",
    "    return list(zip(x_n, y_n))"
   ]
  },
  {
   "cell_type": "code",
   "execution_count": 26,
   "metadata": {},
   "outputs": [],
   "source": [
    "# Loading Model and Image\n",
    "Image=(r'C:\\Users\\adity\\OneDrive\\Pictures\\Camera Roll\\WIN_20210218_18_55_23_Pro.jpg')\n",
    "detector = dlib.get_frontal_face_detector()\n",
    "predictor = dlib.shape_predictor(\"Downloads\\shape_predictor_68_face_landmarks .dat\")"
   ]
  },
  {
   "cell_type": "code",
   "execution_count": 27,
   "metadata": {},
   "outputs": [],
   "source": [
    "# Grey scale conversion\n",
    "\n",
    "img = cv2.imread(Image)\n",
    "GrayCol = cv2.cvtColor(img, cv2.COLOR_BGR2GRAY)\n",
    "Faces = detector(GrayCol)"
   ]
  },
  {
   "cell_type": "code",
   "execution_count": 29,
   "metadata": {},
   "outputs": [
    {
     "name": "stdout",
     "output_type": "stream",
     "text": [
      "face- \n",
      " 1\n",
      "Face boundary \n",
      "\n",
      "(1130, 393)\n",
      "(1134, 432)\n",
      "(1139, 469)\n",
      "(1147, 505)\n",
      "(1164, 537)\n",
      "(1191, 561)\n",
      "(1224, 577)\n",
      "(1260, 587)\n",
      "(1296, 587)\n",
      "(1333, 582)\n",
      "(1368, 570)\n",
      "(1401, 553)\n",
      "(1425, 526)\n",
      "(1440, 491)\n",
      "(1446, 453)\n",
      "(1449, 414)\n",
      "(1451, 376)\n",
      "(1148, 361)\n",
      "(1162, 330)\n",
      "(1193, 310)\n",
      "(1230, 305)\n",
      "(1265, 311)\n",
      "(1307, 308)\n",
      "(1339, 295)\n",
      "(1375, 292)\n",
      "(1409, 306)\n",
      "(1428, 336)\n",
      "Nose Coordinates \n",
      "\n",
      "(1283, 345)\n",
      "(1284, 363)\n",
      "(1284, 380)\n",
      "(1285, 399)\n",
      "(1253, 434)\n",
      "(1270, 435)\n",
      "(1287, 436)\n",
      "(1304, 433)\n",
      "(1321, 432)\n",
      "Left eye \n",
      "\n",
      "(1182, 377)\n",
      "(1201, 365)\n",
      "(1223, 360)\n",
      "(1245, 370)\n",
      "(1224, 377)\n",
      "(1202, 380)\n",
      "Right Eye \n",
      "\n",
      "(1328, 363)\n",
      "(1349, 350)\n",
      "(1371, 350)\n",
      "(1391, 360)\n",
      "(1373, 367)\n",
      "(1350, 367)\n",
      "Lips \n",
      "\n",
      "(1235, 502)\n",
      "(1254, 481)\n",
      "(1272, 468)\n",
      "(1287, 471)\n",
      "(1301, 466)\n",
      "(1324, 476)\n",
      "(1350, 493)\n",
      "(1326, 503)\n",
      "(1305, 506)\n",
      "(1290, 507)\n",
      "(1275, 508)\n",
      "(1256, 507)\n",
      "(1245, 498)\n",
      "(1273, 484)\n",
      "(1287, 484)\n",
      "(1302, 483)\n",
      "(1339, 492)\n",
      "(1304, 485)\n",
      "(1289, 487)\n",
      "(1274, 487)\n",
      "Jaws \n",
      "\n",
      "(1191, 561)\n",
      "(1224, 577)\n",
      "(1260, 587)\n",
      "(1296, 587)\n",
      "(1333, 582)\n",
      "(1368, 570)\n",
      "(1401, 553)\n",
      "face- \n",
      " 2\n",
      "Face boundary \n",
      "\n",
      "(472, 446)\n",
      "(475, 489)\n",
      "(479, 530)\n",
      "(487, 570)\n",
      "(503, 606)\n",
      "(527, 635)\n",
      "(560, 658)\n",
      "(597, 676)\n",
      "(639, 681)\n",
      "(680, 676)\n",
      "(713, 658)\n",
      "(742, 636)\n",
      "(765, 607)\n",
      "(779, 572)\n",
      "(786, 535)\n",
      "(791, 495)\n",
      "(793, 455)\n",
      "(509, 413)\n",
      "(532, 394)\n",
      "(563, 388)\n",
      "(595, 394)\n",
      "(625, 406)\n",
      "(671, 407)\n",
      "(700, 397)\n",
      "(730, 395)\n",
      "(758, 405)\n",
      "(774, 429)\n",
      "Nose Coordinates \n",
      "\n",
      "(645, 438)\n",
      "(646, 466)\n",
      "(646, 493)\n",
      "(648, 521)\n",
      "(612, 540)\n",
      "(629, 544)\n",
      "(645, 549)\n",
      "(661, 545)\n",
      "(676, 541)\n",
      "Left eye \n",
      "\n",
      "(542, 442)\n",
      "(560, 431)\n",
      "(583, 432)\n",
      "(602, 448)\n",
      "(581, 452)\n",
      "(558, 452)\n",
      "Right Eye \n",
      "\n",
      "(685, 451)\n",
      "(703, 437)\n",
      "(725, 437)\n",
      "(742, 450)\n",
      "(726, 457)\n",
      "(704, 457)\n",
      "Lips \n",
      "\n",
      "(589, 589)\n",
      "(610, 578)\n",
      "(631, 572)\n",
      "(646, 576)\n",
      "(661, 572)\n",
      "(680, 580)\n",
      "(701, 590)\n",
      "(680, 605)\n",
      "(662, 609)\n",
      "(646, 610)\n",
      "(630, 609)\n",
      "(609, 605)\n",
      "(598, 590)\n",
      "(630, 587)\n",
      "(646, 588)\n",
      "(661, 587)\n",
      "(692, 591)\n",
      "(662, 590)\n",
      "(647, 591)\n",
      "(631, 589)\n",
      "Jaws \n",
      "\n",
      "(527, 635)\n",
      "(560, 658)\n",
      "(597, 676)\n",
      "(639, 681)\n",
      "(680, 676)\n",
      "(713, 658)\n",
      "(742, 636)\n"
     ]
    }
   ],
   "source": [
    "# Location of facial Features\n",
    "for (j,face) in enumerate(Faces):\n",
    "        dot = predictor(GrayCol, face)\n",
    "        print('face- \\n',j+1)\n",
    "        List=[]\n",
    "        \n",
    "        print('Face boundary \\n')\n",
    "        for i in range(0, 27):\n",
    "            Coordinates = (dot.part(i).x, dot.part(i).y)\n",
    "            print(Coordinates)\n",
    "        \n",
    "        print('Nose Coordinates \\n')\n",
    "        for i in range(27,36):\n",
    "            Coordinates=(dot.part(i).x,dot.part(i).y)\n",
    "            print(Coordinates)\n",
    "        print('Left eye \\n')\n",
    "        for i in range(36,42):\n",
    "            Coordinates=(dot.part(i).x,dot.part(i).y)\n",
    "            print(Coordinates)\n",
    "        print('Right Eye \\n')\n",
    "        for i in range(42,48):\n",
    "            Coordinates=(dot.part(i).x,dot.part(i).y)\n",
    "            print(Coordinates)\n",
    "        print(\"Lips \\n\")\n",
    "        for i in range(48,68):\n",
    "            Coordinates=(dot.part(i).x,dot.part(i).y)\n",
    "            print(Coordinates)\n",
    "        print('Jaws \\n')\n",
    "        for i in range(5,12):\n",
    "            Coordinates=(dot.part(i).x,dot.part(i).y)\n",
    "            List.append(Coordinates)\n",
    "            print(Coordinates)\n",
    "        \n",
    "        for k in range(0,68):\n",
    "            x=dot.part(k).x\n",
    "            y=dot.part(k).y\n",
    "            cv2.circle(img, (x, y), 3, (0, 0, 255), 2)\n",
    "            \n",
    "        cv2.putText(img, \"Face #{}\".format(j + 1), (x - 10, y - 10),\n",
    "        cv2.FONT_HERSHEY_SIMPLEX, 0.5, (0, 255, 0), 2)"
   ]
  },
  {
   "cell_type": "code",
   "execution_count": 44,
   "metadata": {},
   "outputs": [
    {
     "data": {
      "text/plain": [
       "True"
      ]
     },
     "execution_count": 44,
     "metadata": {},
     "output_type": "execute_result"
    }
   ],
   "source": [
    "cv2.imwrite(r\"C:\\Users\\adity\\OneDrive\\Pictures\\Camera Roll\\WIN_20210218_18_55_23_Pro.jpg\",img)"
   ]
  },
  {
   "cell_type": "code",
   "execution_count": null,
   "metadata": {},
   "outputs": [],
   "source": []
  },
  {
   "cell_type": "code",
   "execution_count": null,
   "metadata": {},
   "outputs": [],
   "source": []
  }
 ],
 "metadata": {
  "kernelspec": {
   "display_name": "Python 3",
   "language": "python",
   "name": "python3"
  },
  "language_info": {
   "codemirror_mode": {
    "name": "ipython",
    "version": 3
   },
   "file_extension": ".py",
   "mimetype": "text/x-python",
   "name": "python",
   "nbconvert_exporter": "python",
   "pygments_lexer": "ipython3",
   "version": "3.8.5"
  }
 },
 "nbformat": 4,
 "nbformat_minor": 4
}
