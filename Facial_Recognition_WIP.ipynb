{
  "nbformat": 4,
  "nbformat_minor": 0,
  "metadata": {
    "colab": {
      "name": "Untitled0.ipynb",
      "provenance": [],
      "authorship_tag": "ABX9TyPbdHCXejMlY3YGXDIe9lJN",
      "include_colab_link": true
    },
    "kernelspec": {
      "name": "python3",
      "display_name": "Python 3"
    }
  },
  "cells": [
    {
      "cell_type": "markdown",
      "metadata": {
        "id": "view-in-github",
        "colab_type": "text"
      },
      "source": [
        "<a href=\"https://colab.research.google.com/github/jArunasalam/Facial-Recognition/blob/main/Facial_Recognition_WIP.ipynb\" target=\"_parent\"><img src=\"https://colab.research.google.com/assets/colab-badge.svg\" alt=\"Open In Colab\"/></a>"
      ]
    },
    {
      "cell_type": "code",
      "metadata": {
        "id": "Sva2qvEfq0BR"
      },
      "source": [
        "#import libraries\r\n",
        "import numpy as np\r\n",
        "import pandas as pd\r\n",
        "#import cv2\r\n",
        "import tensorflow as tf\r\n",
        "\r\n",
        "#setup dataset (training and cross-validation sets)\r\n",
        "\r\n",
        "#define model\r\n",
        "\r\n",
        "#train model\r\n",
        "\r\n",
        "#deployment\r\n",
        "\r\n",
        "#optimization"
      ],
      "execution_count": 1,
      "outputs": []
    }
  ]
}